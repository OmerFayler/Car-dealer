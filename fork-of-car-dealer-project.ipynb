{
 "cells": [
  {
   "cell_type": "code",
   "execution_count": 1,
   "id": "7cd24df9",
   "metadata": {
    "_cell_guid": "b1076dfc-b9ad-4769-8c92-a6c4dae69d19",
    "_uuid": "8f2839f25d086af736a60e9eeb907d3b93b6e0e5",
    "execution": {
     "iopub.execute_input": "2024-01-21T18:26:54.383061Z",
     "iopub.status.busy": "2024-01-21T18:26:54.382584Z",
     "iopub.status.idle": "2024-01-21T18:26:55.412718Z",
     "shell.execute_reply": "2024-01-21T18:26:55.411243Z"
    },
    "papermill": {
     "duration": 1.047185,
     "end_time": "2024-01-21T18:26:55.416010",
     "exception": false,
     "start_time": "2024-01-21T18:26:54.368825",
     "status": "completed"
    },
    "tags": []
   },
   "outputs": [
    {
     "name": "stdout",
     "output_type": "stream",
     "text": [
      "/kaggle/input/used-car-auction-prices/car_prices.csv\n"
     ]
    }
   ],
   "source": [
    "# This Python 3 environment comes with many helpful analytics libraries installed\n",
    "# It is defined by the kaggle/python Docker image: https://github.com/kaggle/docker-python\n",
    "# For example, here's several helpful packages to load\n",
    "\n",
    "import numpy as np # linear algebra\n",
    "import pandas as pd # data processing, CSV file I/O (e.g. pd.read_csv)\n",
    "\n",
    "# Input data files are available in the read-only \"../input/\" directory\n",
    "# For example, running this (by clicking run or pressing Shift+Enter) will list all files under the input directory\n",
    "\n",
    "import os\n",
    "for dirname, _, filenames in os.walk('/kaggle/input'):\n",
    "    for filename in filenames:\n",
    "        print(os.path.join(dirname, filename))\n",
    "\n",
    "# You can write up to 20GB to the current directory (/kaggle/working/) that gets preserved as output when you create a version using \"Save & Run All\" \n",
    "# You can also write temporary files to /kaggle/temp/, but they won't be saved outside of the current session"
   ]
  },
  {
   "cell_type": "markdown",
   "id": "9a02a2e8",
   "metadata": {
    "papermill": {
     "duration": 0.011317,
     "end_time": "2024-01-21T18:26:55.439745",
     "exception": false,
     "start_time": "2024-01-21T18:26:55.428428",
     "status": "completed"
    },
    "tags": []
   },
   "source": [
    "# As a private car dealer ,which car I should buy and sell in my bussines? (according to the combine of detailes from the dataset)"
   ]
  },
  {
   "cell_type": "markdown",
   "id": "6de4734a",
   "metadata": {
    "papermill": {
     "duration": 0.011155,
     "end_time": "2024-01-21T18:26:55.462698",
     "exception": false,
     "start_time": "2024-01-21T18:26:55.451543",
     "status": "completed"
    },
    "tags": []
   },
   "source": [
    "there are recommended manufactures(make) that most of their cars sold above the mmr? making a table taht showing manufactuer, how many cars sold above the mmr, how many cars sold under the mmr, the average selling price(good sell) of car by manufacture- sum(sellingprice-mmr>0)/(how many cars sold above the mmr)"
   ]
  },
  {
   "cell_type": "markdown",
   "id": "5b215785",
   "metadata": {
    "papermill": {
     "duration": 0.011262,
     "end_time": "2024-01-21T18:26:55.485649",
     "exception": false,
     "start_time": "2024-01-21T18:26:55.474387",
     "status": "completed"
    },
    "tags": []
   },
   "source": [
    "the MMR column is automotive valuation company that asstimate the car price that going on auction sale."
   ]
  },
  {
   "cell_type": "code",
   "execution_count": null,
   "id": "349b8f3b",
   "metadata": {
    "papermill": {
     "duration": 0.011926,
     "end_time": "2024-01-21T18:26:55.509787",
     "exception": false,
     "start_time": "2024-01-21T18:26:55.497861",
     "status": "completed"
    },
    "tags": []
   },
   "outputs": [],
   "source": []
  },
  {
   "cell_type": "code",
   "execution_count": 2,
   "id": "5c0bffc2",
   "metadata": {
    "execution": {
     "iopub.execute_input": "2024-01-21T18:26:55.536103Z",
     "iopub.status.busy": "2024-01-21T18:26:55.535419Z",
     "iopub.status.idle": "2024-01-21T18:26:59.161208Z",
     "shell.execute_reply": "2024-01-21T18:26:59.159856Z"
    },
    "papermill": {
     "duration": 3.642367,
     "end_time": "2024-01-21T18:26:59.164341",
     "exception": false,
     "start_time": "2024-01-21T18:26:55.521974",
     "status": "completed"
    },
    "tags": []
   },
   "outputs": [
    {
     "name": "stderr",
     "output_type": "stream",
     "text": [
      "Skipping line 408163: expected 16 fields, saw 17\n",
      "Skipping line 417837: expected 16 fields, saw 17\n",
      "Skipping line 421291: expected 16 fields, saw 17\n",
      "Skipping line 424163: expected 16 fields, saw 17\n",
      "\n",
      "Skipping line 427042: expected 16 fields, saw 17\n",
      "Skipping line 427045: expected 16 fields, saw 17\n",
      "Skipping line 434426: expected 16 fields, saw 17\n",
      "Skipping line 444503: expected 16 fields, saw 17\n",
      "Skipping line 453796: expected 16 fields, saw 17\n",
      "\n",
      "Skipping line 461599: expected 16 fields, saw 17\n",
      "Skipping line 461614: expected 16 fields, saw 17\n",
      "\n",
      "Skipping line 492486: expected 16 fields, saw 17\n",
      "Skipping line 497010: expected 16 fields, saw 17\n",
      "Skipping line 497013: expected 16 fields, saw 17\n",
      "Skipping line 499085: expected 16 fields, saw 17\n",
      "Skipping line 501457: expected 16 fields, saw 17\n",
      "Skipping line 505301: expected 16 fields, saw 17\n",
      "Skipping line 505308: expected 16 fields, saw 17\n",
      "Skipping line 520463: expected 16 fields, saw 17\n",
      "\n",
      "Skipping line 528998: expected 16 fields, saw 17\n",
      "Skipping line 529011: expected 16 fields, saw 17\n",
      "Skipping line 529015: expected 16 fields, saw 17\n",
      "Skipping line 529624: expected 16 fields, saw 17\n",
      "Skipping line 548786: expected 16 fields, saw 17\n",
      "Skipping line 551224: expected 16 fields, saw 17\n",
      "Skipping line 554712: expected 16 fields, saw 17\n",
      "\n"
     ]
    }
   ],
   "source": [
    "data=pd.read_csv(\"/kaggle/input/used-car-auction-prices/car_prices.csv\",on_bad_lines = 'warn')"
   ]
  },
  {
   "cell_type": "code",
   "execution_count": 3,
   "id": "86026053",
   "metadata": {
    "execution": {
     "iopub.execute_input": "2024-01-21T18:26:59.190054Z",
     "iopub.status.busy": "2024-01-21T18:26:59.189615Z",
     "iopub.status.idle": "2024-01-21T18:26:59.223680Z",
     "shell.execute_reply": "2024-01-21T18:26:59.222350Z"
    },
    "papermill": {
     "duration": 0.050645,
     "end_time": "2024-01-21T18:26:59.226618",
     "exception": false,
     "start_time": "2024-01-21T18:26:59.175973",
     "status": "completed"
    },
    "tags": []
   },
   "outputs": [
    {
     "data": {
      "text/html": [
       "<div>\n",
       "<style scoped>\n",
       "    .dataframe tbody tr th:only-of-type {\n",
       "        vertical-align: middle;\n",
       "    }\n",
       "\n",
       "    .dataframe tbody tr th {\n",
       "        vertical-align: top;\n",
       "    }\n",
       "\n",
       "    .dataframe thead th {\n",
       "        text-align: right;\n",
       "    }\n",
       "</style>\n",
       "<table border=\"1\" class=\"dataframe\">\n",
       "  <thead>\n",
       "    <tr style=\"text-align: right;\">\n",
       "      <th></th>\n",
       "      <th>year</th>\n",
       "      <th>make</th>\n",
       "      <th>model</th>\n",
       "      <th>trim</th>\n",
       "      <th>body</th>\n",
       "      <th>transmission</th>\n",
       "      <th>vin</th>\n",
       "      <th>state</th>\n",
       "      <th>condition</th>\n",
       "      <th>odometer</th>\n",
       "      <th>color</th>\n",
       "      <th>interior</th>\n",
       "      <th>seller</th>\n",
       "      <th>mmr</th>\n",
       "      <th>sellingprice</th>\n",
       "      <th>saledate</th>\n",
       "    </tr>\n",
       "  </thead>\n",
       "  <tbody>\n",
       "    <tr>\n",
       "      <th>0</th>\n",
       "      <td>2015</td>\n",
       "      <td>Kia</td>\n",
       "      <td>Sorento</td>\n",
       "      <td>LX</td>\n",
       "      <td>SUV</td>\n",
       "      <td>automatic</td>\n",
       "      <td>5xyktca69fg566472</td>\n",
       "      <td>ca</td>\n",
       "      <td>5.0</td>\n",
       "      <td>16639.0</td>\n",
       "      <td>white</td>\n",
       "      <td>black</td>\n",
       "      <td>kia motors america, inc</td>\n",
       "      <td>20500</td>\n",
       "      <td>21500</td>\n",
       "      <td>Tue Dec 16 2014 12:30:00 GMT-0800 (PST)</td>\n",
       "    </tr>\n",
       "    <tr>\n",
       "      <th>1</th>\n",
       "      <td>2015</td>\n",
       "      <td>Kia</td>\n",
       "      <td>Sorento</td>\n",
       "      <td>LX</td>\n",
       "      <td>SUV</td>\n",
       "      <td>automatic</td>\n",
       "      <td>5xyktca69fg561319</td>\n",
       "      <td>ca</td>\n",
       "      <td>5.0</td>\n",
       "      <td>9393.0</td>\n",
       "      <td>white</td>\n",
       "      <td>beige</td>\n",
       "      <td>kia motors america, inc</td>\n",
       "      <td>20800</td>\n",
       "      <td>21500</td>\n",
       "      <td>Tue Dec 16 2014 12:30:00 GMT-0800 (PST)</td>\n",
       "    </tr>\n",
       "    <tr>\n",
       "      <th>2</th>\n",
       "      <td>2014</td>\n",
       "      <td>BMW</td>\n",
       "      <td>3 Series</td>\n",
       "      <td>328i SULEV</td>\n",
       "      <td>Sedan</td>\n",
       "      <td>automatic</td>\n",
       "      <td>wba3c1c51ek116351</td>\n",
       "      <td>ca</td>\n",
       "      <td>4.5</td>\n",
       "      <td>1331.0</td>\n",
       "      <td>gray</td>\n",
       "      <td>black</td>\n",
       "      <td>financial services remarketing (lease)</td>\n",
       "      <td>31900</td>\n",
       "      <td>30000</td>\n",
       "      <td>Thu Jan 15 2015 04:30:00 GMT-0800 (PST)</td>\n",
       "    </tr>\n",
       "    <tr>\n",
       "      <th>3</th>\n",
       "      <td>2015</td>\n",
       "      <td>Volvo</td>\n",
       "      <td>S60</td>\n",
       "      <td>T5</td>\n",
       "      <td>Sedan</td>\n",
       "      <td>automatic</td>\n",
       "      <td>yv1612tb4f1310987</td>\n",
       "      <td>ca</td>\n",
       "      <td>4.1</td>\n",
       "      <td>14282.0</td>\n",
       "      <td>white</td>\n",
       "      <td>black</td>\n",
       "      <td>volvo na rep/world omni</td>\n",
       "      <td>27500</td>\n",
       "      <td>27750</td>\n",
       "      <td>Thu Jan 29 2015 04:30:00 GMT-0800 (PST)</td>\n",
       "    </tr>\n",
       "    <tr>\n",
       "      <th>4</th>\n",
       "      <td>2014</td>\n",
       "      <td>BMW</td>\n",
       "      <td>6 Series Gran Coupe</td>\n",
       "      <td>650i</td>\n",
       "      <td>Sedan</td>\n",
       "      <td>automatic</td>\n",
       "      <td>wba6b2c57ed129731</td>\n",
       "      <td>ca</td>\n",
       "      <td>4.3</td>\n",
       "      <td>2641.0</td>\n",
       "      <td>gray</td>\n",
       "      <td>black</td>\n",
       "      <td>financial services remarketing (lease)</td>\n",
       "      <td>66000</td>\n",
       "      <td>67000</td>\n",
       "      <td>Thu Dec 18 2014 12:30:00 GMT-0800 (PST)</td>\n",
       "    </tr>\n",
       "  </tbody>\n",
       "</table>\n",
       "</div>"
      ],
      "text/plain": [
       "   year   make                model        trim   body transmission  \\\n",
       "0  2015    Kia              Sorento          LX    SUV    automatic   \n",
       "1  2015    Kia              Sorento          LX    SUV    automatic   \n",
       "2  2014    BMW             3 Series  328i SULEV  Sedan    automatic   \n",
       "3  2015  Volvo                  S60          T5  Sedan    automatic   \n",
       "4  2014    BMW  6 Series Gran Coupe        650i  Sedan    automatic   \n",
       "\n",
       "                 vin state  condition  odometer  color interior  \\\n",
       "0  5xyktca69fg566472    ca        5.0   16639.0  white    black   \n",
       "1  5xyktca69fg561319    ca        5.0    9393.0  white    beige   \n",
       "2  wba3c1c51ek116351    ca        4.5    1331.0   gray    black   \n",
       "3  yv1612tb4f1310987    ca        4.1   14282.0  white    black   \n",
       "4  wba6b2c57ed129731    ca        4.3    2641.0   gray    black   \n",
       "\n",
       "                                   seller    mmr  sellingprice  \\\n",
       "0                 kia motors america, inc  20500         21500   \n",
       "1                 kia motors america, inc  20800         21500   \n",
       "2  financial services remarketing (lease)  31900         30000   \n",
       "3                 volvo na rep/world omni  27500         27750   \n",
       "4  financial services remarketing (lease)  66000         67000   \n",
       "\n",
       "                                  saledate  \n",
       "0  Tue Dec 16 2014 12:30:00 GMT-0800 (PST)  \n",
       "1  Tue Dec 16 2014 12:30:00 GMT-0800 (PST)  \n",
       "2  Thu Jan 15 2015 04:30:00 GMT-0800 (PST)  \n",
       "3  Thu Jan 29 2015 04:30:00 GMT-0800 (PST)  \n",
       "4  Thu Dec 18 2014 12:30:00 GMT-0800 (PST)  "
      ]
     },
     "execution_count": 3,
     "metadata": {},
     "output_type": "execute_result"
    }
   ],
   "source": [
    "data.head(5)"
   ]
  },
  {
   "cell_type": "code",
   "execution_count": 4,
   "id": "594fd008",
   "metadata": {
    "execution": {
     "iopub.execute_input": "2024-01-21T18:26:59.254096Z",
     "iopub.status.busy": "2024-01-21T18:26:59.253683Z",
     "iopub.status.idle": "2024-01-21T18:26:59.331090Z",
     "shell.execute_reply": "2024-01-21T18:26:59.329780Z"
    },
    "papermill": {
     "duration": 0.094485,
     "end_time": "2024-01-21T18:26:59.334073",
     "exception": false,
     "start_time": "2024-01-21T18:26:59.239588",
     "status": "completed"
    },
    "tags": []
   },
   "outputs": [],
   "source": [
    "data=data[data['year'] > 2010]"
   ]
  },
  {
   "cell_type": "code",
   "execution_count": 5,
   "id": "be5f211f",
   "metadata": {
    "execution": {
     "iopub.execute_input": "2024-01-21T18:26:59.361521Z",
     "iopub.status.busy": "2024-01-21T18:26:59.360173Z",
     "iopub.status.idle": "2024-01-21T18:26:59.369362Z",
     "shell.execute_reply": "2024-01-21T18:26:59.368108Z"
    },
    "papermill": {
     "duration": 0.025775,
     "end_time": "2024-01-21T18:26:59.372240",
     "exception": false,
     "start_time": "2024-01-21T18:26:59.346465",
     "status": "completed"
    },
    "tags": []
   },
   "outputs": [],
   "source": [
    "data['good_sell']=data['sellingprice']>data['mmr']"
   ]
  },
  {
   "cell_type": "code",
   "execution_count": 6,
   "id": "d374d018",
   "metadata": {
    "execution": {
     "iopub.execute_input": "2024-01-21T18:26:59.399912Z",
     "iopub.status.busy": "2024-01-21T18:26:59.399372Z",
     "iopub.status.idle": "2024-01-21T18:26:59.410637Z",
     "shell.execute_reply": "2024-01-21T18:26:59.409278Z"
    },
    "papermill": {
     "duration": 0.028814,
     "end_time": "2024-01-21T18:26:59.413476",
     "exception": false,
     "start_time": "2024-01-21T18:26:59.384662",
     "status": "completed"
    },
    "tags": []
   },
   "outputs": [
    {
     "data": {
      "text/plain": [
       "0          True\n",
       "1          True\n",
       "2         False\n",
       "3          True\n",
       "4          True\n",
       "          ...  \n",
       "558806    False\n",
       "558807     True\n",
       "558808     True\n",
       "558809    False\n",
       "558810    False\n",
       "Name: good_sell, Length: 339512, dtype: bool"
      ]
     },
     "execution_count": 6,
     "metadata": {},
     "output_type": "execute_result"
    }
   ],
   "source": [
    "data['good_sell']"
   ]
  },
  {
   "cell_type": "code",
   "execution_count": 7,
   "id": "9dfbdddf",
   "metadata": {
    "execution": {
     "iopub.execute_input": "2024-01-21T18:26:59.440354Z",
     "iopub.status.busy": "2024-01-21T18:26:59.439886Z",
     "iopub.status.idle": "2024-01-21T18:26:59.500966Z",
     "shell.execute_reply": "2024-01-21T18:26:59.499797Z"
    },
    "papermill": {
     "duration": 0.077934,
     "end_time": "2024-01-21T18:26:59.504078",
     "exception": false,
     "start_time": "2024-01-21T18:26:59.426144",
     "status": "completed"
    },
    "tags": []
   },
   "outputs": [
    {
     "data": {
      "text/html": [
       "<div>\n",
       "<style scoped>\n",
       "    .dataframe tbody tr th:only-of-type {\n",
       "        vertical-align: middle;\n",
       "    }\n",
       "\n",
       "    .dataframe tbody tr th {\n",
       "        vertical-align: top;\n",
       "    }\n",
       "\n",
       "    .dataframe thead th {\n",
       "        text-align: right;\n",
       "    }\n",
       "</style>\n",
       "<table border=\"1\" class=\"dataframe\">\n",
       "  <thead>\n",
       "    <tr style=\"text-align: right;\">\n",
       "      <th></th>\n",
       "      <th>year</th>\n",
       "      <th>make</th>\n",
       "      <th>model</th>\n",
       "      <th>trim</th>\n",
       "      <th>body</th>\n",
       "      <th>transmission</th>\n",
       "      <th>vin</th>\n",
       "      <th>state</th>\n",
       "      <th>condition</th>\n",
       "      <th>odometer</th>\n",
       "      <th>color</th>\n",
       "      <th>interior</th>\n",
       "      <th>seller</th>\n",
       "      <th>mmr</th>\n",
       "      <th>sellingprice</th>\n",
       "      <th>saledate</th>\n",
       "      <th>good_sell</th>\n",
       "    </tr>\n",
       "  </thead>\n",
       "  <tbody>\n",
       "    <tr>\n",
       "      <th>0</th>\n",
       "      <td>2015</td>\n",
       "      <td>Kia</td>\n",
       "      <td>Sorento</td>\n",
       "      <td>LX</td>\n",
       "      <td>SUV</td>\n",
       "      <td>automatic</td>\n",
       "      <td>5xyktca69fg566472</td>\n",
       "      <td>ca</td>\n",
       "      <td>5.0</td>\n",
       "      <td>16639.0</td>\n",
       "      <td>white</td>\n",
       "      <td>black</td>\n",
       "      <td>kia motors america, inc</td>\n",
       "      <td>20500</td>\n",
       "      <td>21500</td>\n",
       "      <td>Tue Dec 16 2014 12:30:00 GMT-0800 (PST)</td>\n",
       "      <td>True</td>\n",
       "    </tr>\n",
       "    <tr>\n",
       "      <th>1</th>\n",
       "      <td>2015</td>\n",
       "      <td>Kia</td>\n",
       "      <td>Sorento</td>\n",
       "      <td>LX</td>\n",
       "      <td>SUV</td>\n",
       "      <td>automatic</td>\n",
       "      <td>5xyktca69fg561319</td>\n",
       "      <td>ca</td>\n",
       "      <td>5.0</td>\n",
       "      <td>9393.0</td>\n",
       "      <td>white</td>\n",
       "      <td>beige</td>\n",
       "      <td>kia motors america, inc</td>\n",
       "      <td>20800</td>\n",
       "      <td>21500</td>\n",
       "      <td>Tue Dec 16 2014 12:30:00 GMT-0800 (PST)</td>\n",
       "      <td>True</td>\n",
       "    </tr>\n",
       "    <tr>\n",
       "      <th>3</th>\n",
       "      <td>2015</td>\n",
       "      <td>Volvo</td>\n",
       "      <td>S60</td>\n",
       "      <td>T5</td>\n",
       "      <td>Sedan</td>\n",
       "      <td>automatic</td>\n",
       "      <td>yv1612tb4f1310987</td>\n",
       "      <td>ca</td>\n",
       "      <td>4.1</td>\n",
       "      <td>14282.0</td>\n",
       "      <td>white</td>\n",
       "      <td>black</td>\n",
       "      <td>volvo na rep/world omni</td>\n",
       "      <td>27500</td>\n",
       "      <td>27750</td>\n",
       "      <td>Thu Jan 29 2015 04:30:00 GMT-0800 (PST)</td>\n",
       "      <td>True</td>\n",
       "    </tr>\n",
       "    <tr>\n",
       "      <th>4</th>\n",
       "      <td>2014</td>\n",
       "      <td>BMW</td>\n",
       "      <td>6 Series Gran Coupe</td>\n",
       "      <td>650i</td>\n",
       "      <td>Sedan</td>\n",
       "      <td>automatic</td>\n",
       "      <td>wba6b2c57ed129731</td>\n",
       "      <td>ca</td>\n",
       "      <td>4.3</td>\n",
       "      <td>2641.0</td>\n",
       "      <td>gray</td>\n",
       "      <td>black</td>\n",
       "      <td>financial services remarketing (lease)</td>\n",
       "      <td>66000</td>\n",
       "      <td>67000</td>\n",
       "      <td>Thu Dec 18 2014 12:30:00 GMT-0800 (PST)</td>\n",
       "      <td>True</td>\n",
       "    </tr>\n",
       "    <tr>\n",
       "      <th>8</th>\n",
       "      <td>2014</td>\n",
       "      <td>Audi</td>\n",
       "      <td>A4</td>\n",
       "      <td>2.0T Premium Plus quattro</td>\n",
       "      <td>Sedan</td>\n",
       "      <td>automatic</td>\n",
       "      <td>wauffafl3en030343</td>\n",
       "      <td>ca</td>\n",
       "      <td>4.2</td>\n",
       "      <td>9557.0</td>\n",
       "      <td>white</td>\n",
       "      <td>black</td>\n",
       "      <td>audi mission viejo</td>\n",
       "      <td>32100</td>\n",
       "      <td>32250</td>\n",
       "      <td>Thu Dec 18 2014 12:00:00 GMT-0800 (PST)</td>\n",
       "      <td>True</td>\n",
       "    </tr>\n",
       "  </tbody>\n",
       "</table>\n",
       "</div>"
      ],
      "text/plain": [
       "   year   make                model                       trim   body  \\\n",
       "0  2015    Kia              Sorento                         LX    SUV   \n",
       "1  2015    Kia              Sorento                         LX    SUV   \n",
       "3  2015  Volvo                  S60                         T5  Sedan   \n",
       "4  2014    BMW  6 Series Gran Coupe                       650i  Sedan   \n",
       "8  2014   Audi                   A4  2.0T Premium Plus quattro  Sedan   \n",
       "\n",
       "  transmission                vin state  condition  odometer  color interior  \\\n",
       "0    automatic  5xyktca69fg566472    ca        5.0   16639.0  white    black   \n",
       "1    automatic  5xyktca69fg561319    ca        5.0    9393.0  white    beige   \n",
       "3    automatic  yv1612tb4f1310987    ca        4.1   14282.0  white    black   \n",
       "4    automatic  wba6b2c57ed129731    ca        4.3    2641.0   gray    black   \n",
       "8    automatic  wauffafl3en030343    ca        4.2    9557.0  white    black   \n",
       "\n",
       "                                   seller    mmr  sellingprice  \\\n",
       "0                 kia motors america, inc  20500         21500   \n",
       "1                 kia motors america, inc  20800         21500   \n",
       "3                 volvo na rep/world omni  27500         27750   \n",
       "4  financial services remarketing (lease)  66000         67000   \n",
       "8                      audi mission viejo  32100         32250   \n",
       "\n",
       "                                  saledate  good_sell  \n",
       "0  Tue Dec 16 2014 12:30:00 GMT-0800 (PST)       True  \n",
       "1  Tue Dec 16 2014 12:30:00 GMT-0800 (PST)       True  \n",
       "3  Thu Jan 29 2015 04:30:00 GMT-0800 (PST)       True  \n",
       "4  Thu Dec 18 2014 12:30:00 GMT-0800 (PST)       True  \n",
       "8  Thu Dec 18 2014 12:00:00 GMT-0800 (PST)       True  "
      ]
     },
     "execution_count": 7,
     "metadata": {},
     "output_type": "execute_result"
    }
   ],
   "source": [
    "dataAboveMmr=data[data[\"good_sell\"]==True]\n",
    "dataAboveMmr.head(5)"
   ]
  },
  {
   "cell_type": "code",
   "execution_count": 8,
   "id": "928389bc",
   "metadata": {
    "execution": {
     "iopub.execute_input": "2024-01-21T18:26:59.532405Z",
     "iopub.status.busy": "2024-01-21T18:26:59.531558Z",
     "iopub.status.idle": "2024-01-21T18:26:59.600911Z",
     "shell.execute_reply": "2024-01-21T18:26:59.599617Z"
    },
    "papermill": {
     "duration": 0.08617,
     "end_time": "2024-01-21T18:26:59.603458",
     "exception": false,
     "start_time": "2024-01-21T18:26:59.517288",
     "status": "completed"
    },
    "tags": []
   },
   "outputs": [
    {
     "data": {
      "text/html": [
       "<div>\n",
       "<style scoped>\n",
       "    .dataframe tbody tr th:only-of-type {\n",
       "        vertical-align: middle;\n",
       "    }\n",
       "\n",
       "    .dataframe tbody tr th {\n",
       "        vertical-align: top;\n",
       "    }\n",
       "\n",
       "    .dataframe thead th {\n",
       "        text-align: right;\n",
       "    }\n",
       "</style>\n",
       "<table border=\"1\" class=\"dataframe\">\n",
       "  <thead>\n",
       "    <tr style=\"text-align: right;\">\n",
       "      <th></th>\n",
       "      <th>year</th>\n",
       "      <th>make</th>\n",
       "      <th>model</th>\n",
       "      <th>trim</th>\n",
       "      <th>body</th>\n",
       "      <th>transmission</th>\n",
       "      <th>vin</th>\n",
       "      <th>state</th>\n",
       "      <th>condition</th>\n",
       "      <th>odometer</th>\n",
       "      <th>color</th>\n",
       "      <th>interior</th>\n",
       "      <th>seller</th>\n",
       "      <th>mmr</th>\n",
       "      <th>sellingprice</th>\n",
       "      <th>saledate</th>\n",
       "      <th>good_sell</th>\n",
       "    </tr>\n",
       "  </thead>\n",
       "  <tbody>\n",
       "    <tr>\n",
       "      <th>2</th>\n",
       "      <td>2014</td>\n",
       "      <td>BMW</td>\n",
       "      <td>3 Series</td>\n",
       "      <td>328i SULEV</td>\n",
       "      <td>Sedan</td>\n",
       "      <td>automatic</td>\n",
       "      <td>wba3c1c51ek116351</td>\n",
       "      <td>ca</td>\n",
       "      <td>4.5</td>\n",
       "      <td>1331.0</td>\n",
       "      <td>gray</td>\n",
       "      <td>black</td>\n",
       "      <td>financial services remarketing (lease)</td>\n",
       "      <td>31900</td>\n",
       "      <td>30000</td>\n",
       "      <td>Thu Jan 15 2015 04:30:00 GMT-0800 (PST)</td>\n",
       "      <td>False</td>\n",
       "    </tr>\n",
       "    <tr>\n",
       "      <th>5</th>\n",
       "      <td>2015</td>\n",
       "      <td>Nissan</td>\n",
       "      <td>Altima</td>\n",
       "      <td>2.5 S</td>\n",
       "      <td>Sedan</td>\n",
       "      <td>automatic</td>\n",
       "      <td>1n4al3ap1fn326013</td>\n",
       "      <td>ca</td>\n",
       "      <td>1.0</td>\n",
       "      <td>5554.0</td>\n",
       "      <td>gray</td>\n",
       "      <td>black</td>\n",
       "      <td>enterprise vehicle exchange / tra / rental / t...</td>\n",
       "      <td>15350</td>\n",
       "      <td>10900</td>\n",
       "      <td>Tue Dec 30 2014 12:00:00 GMT-0800 (PST)</td>\n",
       "      <td>False</td>\n",
       "    </tr>\n",
       "    <tr>\n",
       "      <th>6</th>\n",
       "      <td>2014</td>\n",
       "      <td>BMW</td>\n",
       "      <td>M5</td>\n",
       "      <td>Base</td>\n",
       "      <td>Sedan</td>\n",
       "      <td>automatic</td>\n",
       "      <td>wbsfv9c51ed593089</td>\n",
       "      <td>ca</td>\n",
       "      <td>3.4</td>\n",
       "      <td>14943.0</td>\n",
       "      <td>black</td>\n",
       "      <td>black</td>\n",
       "      <td>the hertz corporation</td>\n",
       "      <td>69000</td>\n",
       "      <td>65000</td>\n",
       "      <td>Wed Dec 17 2014 12:30:00 GMT-0800 (PST)</td>\n",
       "      <td>False</td>\n",
       "    </tr>\n",
       "    <tr>\n",
       "      <th>7</th>\n",
       "      <td>2014</td>\n",
       "      <td>Chevrolet</td>\n",
       "      <td>Cruze</td>\n",
       "      <td>1LT</td>\n",
       "      <td>Sedan</td>\n",
       "      <td>automatic</td>\n",
       "      <td>1g1pc5sb2e7128460</td>\n",
       "      <td>ca</td>\n",
       "      <td>2.0</td>\n",
       "      <td>28617.0</td>\n",
       "      <td>black</td>\n",
       "      <td>black</td>\n",
       "      <td>enterprise vehicle exchange / tra / rental / t...</td>\n",
       "      <td>11900</td>\n",
       "      <td>9800</td>\n",
       "      <td>Tue Dec 16 2014 13:00:00 GMT-0800 (PST)</td>\n",
       "      <td>False</td>\n",
       "    </tr>\n",
       "    <tr>\n",
       "      <th>9</th>\n",
       "      <td>2014</td>\n",
       "      <td>Chevrolet</td>\n",
       "      <td>Camaro</td>\n",
       "      <td>LT</td>\n",
       "      <td>Convertible</td>\n",
       "      <td>automatic</td>\n",
       "      <td>2g1fb3d37e9218789</td>\n",
       "      <td>ca</td>\n",
       "      <td>3.0</td>\n",
       "      <td>4809.0</td>\n",
       "      <td>red</td>\n",
       "      <td>black</td>\n",
       "      <td>d/m auto sales inc</td>\n",
       "      <td>26300</td>\n",
       "      <td>17500</td>\n",
       "      <td>Tue Jan 20 2015 04:00:00 GMT-0800 (PST)</td>\n",
       "      <td>False</td>\n",
       "    </tr>\n",
       "  </tbody>\n",
       "</table>\n",
       "</div>"
      ],
      "text/plain": [
       "   year       make     model        trim         body transmission  \\\n",
       "2  2014        BMW  3 Series  328i SULEV        Sedan    automatic   \n",
       "5  2015     Nissan    Altima       2.5 S        Sedan    automatic   \n",
       "6  2014        BMW        M5        Base        Sedan    automatic   \n",
       "7  2014  Chevrolet     Cruze         1LT        Sedan    automatic   \n",
       "9  2014  Chevrolet    Camaro          LT  Convertible    automatic   \n",
       "\n",
       "                 vin state  condition  odometer  color interior  \\\n",
       "2  wba3c1c51ek116351    ca        4.5    1331.0   gray    black   \n",
       "5  1n4al3ap1fn326013    ca        1.0    5554.0   gray    black   \n",
       "6  wbsfv9c51ed593089    ca        3.4   14943.0  black    black   \n",
       "7  1g1pc5sb2e7128460    ca        2.0   28617.0  black    black   \n",
       "9  2g1fb3d37e9218789    ca        3.0    4809.0    red    black   \n",
       "\n",
       "                                              seller    mmr  sellingprice  \\\n",
       "2             financial services remarketing (lease)  31900         30000   \n",
       "5  enterprise vehicle exchange / tra / rental / t...  15350         10900   \n",
       "6                              the hertz corporation  69000         65000   \n",
       "7  enterprise vehicle exchange / tra / rental / t...  11900          9800   \n",
       "9                                 d/m auto sales inc  26300         17500   \n",
       "\n",
       "                                  saledate  good_sell  \n",
       "2  Thu Jan 15 2015 04:30:00 GMT-0800 (PST)      False  \n",
       "5  Tue Dec 30 2014 12:00:00 GMT-0800 (PST)      False  \n",
       "6  Wed Dec 17 2014 12:30:00 GMT-0800 (PST)      False  \n",
       "7  Tue Dec 16 2014 13:00:00 GMT-0800 (PST)      False  \n",
       "9  Tue Jan 20 2015 04:00:00 GMT-0800 (PST)      False  "
      ]
     },
     "execution_count": 8,
     "metadata": {},
     "output_type": "execute_result"
    }
   ],
   "source": [
    "dataUnderMmr=data[data[\"good_sell\"]==False]\n",
    "dataUnderMmr.head(5)"
   ]
  },
  {
   "cell_type": "code",
   "execution_count": 9,
   "id": "85949c9b",
   "metadata": {
    "execution": {
     "iopub.execute_input": "2024-01-21T18:26:59.631681Z",
     "iopub.status.busy": "2024-01-21T18:26:59.631168Z",
     "iopub.status.idle": "2024-01-21T18:26:59.762504Z",
     "shell.execute_reply": "2024-01-21T18:26:59.761205Z"
    },
    "papermill": {
     "duration": 0.149106,
     "end_time": "2024-01-21T18:26:59.765449",
     "exception": false,
     "start_time": "2024-01-21T18:26:59.616343",
     "status": "completed"
    },
    "tags": []
   },
   "outputs": [],
   "source": [
    "df= dataAboveMmr.groupby('make')['sellingprice'].sum().to_frame()\n",
    "df['AboveMmr']=dataAboveMmr['make'].value_counts().to_frame()\n",
    "df['UnderMmr']=dataUnderMmr['make'].value_counts().to_frame().astype(int)\n",
    "df['average_sell_price_per_car']=df['sellingprice']/df['AboveMmr'].astype(int)\n",
    "df['above_under_ratio']=df['AboveMmr']/df['UnderMmr']\n",
    "df_avg_sort=df[['AboveMmr','UnderMmr','average_sell_price_per_car','above_under_ratio']].sort_values(by='average_sell_price_per_car',ascending=False)\n",
    "df_AboveMmr_sort=df[['AboveMmr','UnderMmr','average_sell_price_per_car','above_under_ratio']].sort_values(by='AboveMmr',ascending=False)\n",
    "df_UnderMmr_sort=df[['AboveMmr','UnderMmr','average_sell_price_per_car','above_under_ratio']].sort_values(by='UnderMmr',ascending=False)\n",
    "df_above_under_ratio_sort=df[['AboveMmr','UnderMmr','average_sell_price_per_car','above_under_ratio']].sort_values(by='above_under_ratio',ascending=False)"
   ]
  },
  {
   "cell_type": "code",
   "execution_count": 10,
   "id": "7e18b438",
   "metadata": {
    "_kg_hide-input": false,
    "execution": {
     "iopub.execute_input": "2024-01-21T18:26:59.793420Z",
     "iopub.status.busy": "2024-01-21T18:26:59.792935Z",
     "iopub.status.idle": "2024-01-21T18:26:59.808602Z",
     "shell.execute_reply": "2024-01-21T18:26:59.807074Z"
    },
    "papermill": {
     "duration": 0.032858,
     "end_time": "2024-01-21T18:26:59.811295",
     "exception": false,
     "start_time": "2024-01-21T18:26:59.778437",
     "status": "completed"
    },
    "tags": []
   },
   "outputs": [
    {
     "data": {
      "text/html": [
       "<div>\n",
       "<style scoped>\n",
       "    .dataframe tbody tr th:only-of-type {\n",
       "        vertical-align: middle;\n",
       "    }\n",
       "\n",
       "    .dataframe tbody tr th {\n",
       "        vertical-align: top;\n",
       "    }\n",
       "\n",
       "    .dataframe thead th {\n",
       "        text-align: right;\n",
       "    }\n",
       "</style>\n",
       "<table border=\"1\" class=\"dataframe\">\n",
       "  <thead>\n",
       "    <tr style=\"text-align: right;\">\n",
       "      <th></th>\n",
       "      <th>AboveMmr</th>\n",
       "      <th>UnderMmr</th>\n",
       "      <th>average_sell_price_per_car</th>\n",
       "      <th>above_under_ratio</th>\n",
       "    </tr>\n",
       "    <tr>\n",
       "      <th>make</th>\n",
       "      <th></th>\n",
       "      <th></th>\n",
       "      <th></th>\n",
       "      <th></th>\n",
       "    </tr>\n",
       "  </thead>\n",
       "  <tbody>\n",
       "    <tr>\n",
       "      <th>Ferrari</th>\n",
       "      <td>3</td>\n",
       "      <td>5.0</td>\n",
       "      <td>162000.000000</td>\n",
       "      <td>0.600000</td>\n",
       "    </tr>\n",
       "    <tr>\n",
       "      <th>Rolls-Royce</th>\n",
       "      <td>6</td>\n",
       "      <td>7.0</td>\n",
       "      <td>159416.666667</td>\n",
       "      <td>0.857143</td>\n",
       "    </tr>\n",
       "    <tr>\n",
       "      <th>Bentley</th>\n",
       "      <td>13</td>\n",
       "      <td>15.0</td>\n",
       "      <td>127346.153846</td>\n",
       "      <td>0.866667</td>\n",
       "    </tr>\n",
       "    <tr>\n",
       "      <th>Aston Martin</th>\n",
       "      <td>2</td>\n",
       "      <td>NaN</td>\n",
       "      <td>98750.000000</td>\n",
       "      <td>NaN</td>\n",
       "    </tr>\n",
       "    <tr>\n",
       "      <th>land rover</th>\n",
       "      <td>1</td>\n",
       "      <td>2.0</td>\n",
       "      <td>71600.000000</td>\n",
       "      <td>0.500000</td>\n",
       "    </tr>\n",
       "  </tbody>\n",
       "</table>\n",
       "</div>"
      ],
      "text/plain": [
       "              AboveMmr  UnderMmr  average_sell_price_per_car  \\\n",
       "make                                                           \n",
       "Ferrari              3       5.0               162000.000000   \n",
       "Rolls-Royce          6       7.0               159416.666667   \n",
       "Bentley             13      15.0               127346.153846   \n",
       "Aston Martin         2       NaN                98750.000000   \n",
       "land rover           1       2.0                71600.000000   \n",
       "\n",
       "              above_under_ratio  \n",
       "make                             \n",
       "Ferrari                0.600000  \n",
       "Rolls-Royce            0.857143  \n",
       "Bentley                0.866667  \n",
       "Aston Martin                NaN  \n",
       "land rover             0.500000  "
      ]
     },
     "execution_count": 10,
     "metadata": {},
     "output_type": "execute_result"
    }
   ],
   "source": [
    "df_avg_sort.head(5)"
   ]
  },
  {
   "cell_type": "code",
   "execution_count": 11,
   "id": "c52d26d0",
   "metadata": {
    "execution": {
     "iopub.execute_input": "2024-01-21T18:26:59.841335Z",
     "iopub.status.busy": "2024-01-21T18:26:59.840889Z",
     "iopub.status.idle": "2024-01-21T18:26:59.855210Z",
     "shell.execute_reply": "2024-01-21T18:26:59.853845Z"
    },
    "papermill": {
     "duration": 0.032331,
     "end_time": "2024-01-21T18:26:59.858011",
     "exception": false,
     "start_time": "2024-01-21T18:26:59.825680",
     "status": "completed"
    },
    "tags": []
   },
   "outputs": [
    {
     "data": {
      "text/html": [
       "<div>\n",
       "<style scoped>\n",
       "    .dataframe tbody tr th:only-of-type {\n",
       "        vertical-align: middle;\n",
       "    }\n",
       "\n",
       "    .dataframe tbody tr th {\n",
       "        vertical-align: top;\n",
       "    }\n",
       "\n",
       "    .dataframe thead th {\n",
       "        text-align: right;\n",
       "    }\n",
       "</style>\n",
       "<table border=\"1\" class=\"dataframe\">\n",
       "  <thead>\n",
       "    <tr style=\"text-align: right;\">\n",
       "      <th></th>\n",
       "      <th>AboveMmr</th>\n",
       "      <th>UnderMmr</th>\n",
       "      <th>average_sell_price_per_car</th>\n",
       "      <th>above_under_ratio</th>\n",
       "    </tr>\n",
       "    <tr>\n",
       "      <th>make</th>\n",
       "      <th></th>\n",
       "      <th></th>\n",
       "      <th></th>\n",
       "      <th></th>\n",
       "    </tr>\n",
       "  </thead>\n",
       "  <tbody>\n",
       "    <tr>\n",
       "      <th>Ford</th>\n",
       "      <td>30144</td>\n",
       "      <td>36218.0</td>\n",
       "      <td>18808.916368</td>\n",
       "      <td>0.832293</td>\n",
       "    </tr>\n",
       "    <tr>\n",
       "      <th>Nissan</th>\n",
       "      <td>19283</td>\n",
       "      <td>21514.0</td>\n",
       "      <td>14837.880465</td>\n",
       "      <td>0.896300</td>\n",
       "    </tr>\n",
       "    <tr>\n",
       "      <th>Chevrolet</th>\n",
       "      <td>16590</td>\n",
       "      <td>17886.0</td>\n",
       "      <td>16455.347438</td>\n",
       "      <td>0.927541</td>\n",
       "    </tr>\n",
       "    <tr>\n",
       "      <th>Toyota</th>\n",
       "      <td>10897</td>\n",
       "      <td>13221.0</td>\n",
       "      <td>16883.966321</td>\n",
       "      <td>0.824219</td>\n",
       "    </tr>\n",
       "    <tr>\n",
       "      <th>Dodge</th>\n",
       "      <td>8380</td>\n",
       "      <td>9100.0</td>\n",
       "      <td>15395.316706</td>\n",
       "      <td>0.920879</td>\n",
       "    </tr>\n",
       "  </tbody>\n",
       "</table>\n",
       "</div>"
      ],
      "text/plain": [
       "           AboveMmr  UnderMmr  average_sell_price_per_car  above_under_ratio\n",
       "make                                                                        \n",
       "Ford          30144   36218.0                18808.916368           0.832293\n",
       "Nissan        19283   21514.0                14837.880465           0.896300\n",
       "Chevrolet     16590   17886.0                16455.347438           0.927541\n",
       "Toyota        10897   13221.0                16883.966321           0.824219\n",
       "Dodge          8380    9100.0                15395.316706           0.920879"
      ]
     },
     "execution_count": 11,
     "metadata": {},
     "output_type": "execute_result"
    }
   ],
   "source": [
    "df_AboveMmr_sort.head(5)"
   ]
  },
  {
   "cell_type": "code",
   "execution_count": 12,
   "id": "63a50797",
   "metadata": {
    "execution": {
     "iopub.execute_input": "2024-01-21T18:26:59.887571Z",
     "iopub.status.busy": "2024-01-21T18:26:59.887113Z",
     "iopub.status.idle": "2024-01-21T18:26:59.903304Z",
     "shell.execute_reply": "2024-01-21T18:26:59.901954Z"
    },
    "papermill": {
     "duration": 0.034012,
     "end_time": "2024-01-21T18:26:59.905660",
     "exception": false,
     "start_time": "2024-01-21T18:26:59.871648",
     "status": "completed"
    },
    "tags": []
   },
   "outputs": [
    {
     "data": {
      "text/html": [
       "<div>\n",
       "<style scoped>\n",
       "    .dataframe tbody tr th:only-of-type {\n",
       "        vertical-align: middle;\n",
       "    }\n",
       "\n",
       "    .dataframe tbody tr th {\n",
       "        vertical-align: top;\n",
       "    }\n",
       "\n",
       "    .dataframe thead th {\n",
       "        text-align: right;\n",
       "    }\n",
       "</style>\n",
       "<table border=\"1\" class=\"dataframe\">\n",
       "  <thead>\n",
       "    <tr style=\"text-align: right;\">\n",
       "      <th></th>\n",
       "      <th>AboveMmr</th>\n",
       "      <th>UnderMmr</th>\n",
       "      <th>average_sell_price_per_car</th>\n",
       "      <th>above_under_ratio</th>\n",
       "    </tr>\n",
       "    <tr>\n",
       "      <th>make</th>\n",
       "      <th></th>\n",
       "      <th></th>\n",
       "      <th></th>\n",
       "      <th></th>\n",
       "    </tr>\n",
       "  </thead>\n",
       "  <tbody>\n",
       "    <tr>\n",
       "      <th>Ford</th>\n",
       "      <td>30144</td>\n",
       "      <td>36218.0</td>\n",
       "      <td>18808.916368</td>\n",
       "      <td>0.832293</td>\n",
       "    </tr>\n",
       "    <tr>\n",
       "      <th>Nissan</th>\n",
       "      <td>19283</td>\n",
       "      <td>21514.0</td>\n",
       "      <td>14837.880465</td>\n",
       "      <td>0.896300</td>\n",
       "    </tr>\n",
       "    <tr>\n",
       "      <th>Chevrolet</th>\n",
       "      <td>16590</td>\n",
       "      <td>17886.0</td>\n",
       "      <td>16455.347438</td>\n",
       "      <td>0.927541</td>\n",
       "    </tr>\n",
       "    <tr>\n",
       "      <th>Toyota</th>\n",
       "      <td>10897</td>\n",
       "      <td>13221.0</td>\n",
       "      <td>16883.966321</td>\n",
       "      <td>0.824219</td>\n",
       "    </tr>\n",
       "    <tr>\n",
       "      <th>Dodge</th>\n",
       "      <td>8380</td>\n",
       "      <td>9100.0</td>\n",
       "      <td>15395.316706</td>\n",
       "      <td>0.920879</td>\n",
       "    </tr>\n",
       "  </tbody>\n",
       "</table>\n",
       "</div>"
      ],
      "text/plain": [
       "           AboveMmr  UnderMmr  average_sell_price_per_car  above_under_ratio\n",
       "make                                                                        \n",
       "Ford          30144   36218.0                18808.916368           0.832293\n",
       "Nissan        19283   21514.0                14837.880465           0.896300\n",
       "Chevrolet     16590   17886.0                16455.347438           0.927541\n",
       "Toyota        10897   13221.0                16883.966321           0.824219\n",
       "Dodge          8380    9100.0                15395.316706           0.920879"
      ]
     },
     "execution_count": 12,
     "metadata": {},
     "output_type": "execute_result"
    }
   ],
   "source": [
    "df_UnderMmr_sort.head(5)"
   ]
  },
  {
   "cell_type": "code",
   "execution_count": 13,
   "id": "a7d47638",
   "metadata": {
    "execution": {
     "iopub.execute_input": "2024-01-21T18:26:59.935851Z",
     "iopub.status.busy": "2024-01-21T18:26:59.935403Z",
     "iopub.status.idle": "2024-01-21T18:26:59.948764Z",
     "shell.execute_reply": "2024-01-21T18:26:59.947586Z"
    },
    "papermill": {
     "duration": 0.031155,
     "end_time": "2024-01-21T18:26:59.951197",
     "exception": false,
     "start_time": "2024-01-21T18:26:59.920042",
     "status": "completed"
    },
    "tags": []
   },
   "outputs": [
    {
     "data": {
      "text/html": [
       "<div>\n",
       "<style scoped>\n",
       "    .dataframe tbody tr th:only-of-type {\n",
       "        vertical-align: middle;\n",
       "    }\n",
       "\n",
       "    .dataframe tbody tr th {\n",
       "        vertical-align: top;\n",
       "    }\n",
       "\n",
       "    .dataframe thead th {\n",
       "        text-align: right;\n",
       "    }\n",
       "</style>\n",
       "<table border=\"1\" class=\"dataframe\">\n",
       "  <thead>\n",
       "    <tr style=\"text-align: right;\">\n",
       "      <th></th>\n",
       "      <th>AboveMmr</th>\n",
       "      <th>UnderMmr</th>\n",
       "      <th>average_sell_price_per_car</th>\n",
       "      <th>above_under_ratio</th>\n",
       "    </tr>\n",
       "    <tr>\n",
       "      <th>make</th>\n",
       "      <th></th>\n",
       "      <th></th>\n",
       "      <th></th>\n",
       "      <th></th>\n",
       "    </tr>\n",
       "  </thead>\n",
       "  <tbody>\n",
       "    <tr>\n",
       "      <th>chevrolet</th>\n",
       "      <td>5</td>\n",
       "      <td>3.0</td>\n",
       "      <td>10760.000000</td>\n",
       "      <td>1.666667</td>\n",
       "    </tr>\n",
       "    <tr>\n",
       "      <th>ford</th>\n",
       "      <td>33</td>\n",
       "      <td>20.0</td>\n",
       "      <td>13083.333333</td>\n",
       "      <td>1.650000</td>\n",
       "    </tr>\n",
       "    <tr>\n",
       "      <th>Saab</th>\n",
       "      <td>8</td>\n",
       "      <td>5.0</td>\n",
       "      <td>10887.500000</td>\n",
       "      <td>1.600000</td>\n",
       "    </tr>\n",
       "    <tr>\n",
       "      <th>lincoln</th>\n",
       "      <td>11</td>\n",
       "      <td>7.0</td>\n",
       "      <td>30681.818182</td>\n",
       "      <td>1.571429</td>\n",
       "    </tr>\n",
       "    <tr>\n",
       "      <th>volkswagen</th>\n",
       "      <td>3</td>\n",
       "      <td>2.0</td>\n",
       "      <td>18900.000000</td>\n",
       "      <td>1.500000</td>\n",
       "    </tr>\n",
       "  </tbody>\n",
       "</table>\n",
       "</div>"
      ],
      "text/plain": [
       "            AboveMmr  UnderMmr  average_sell_price_per_car  above_under_ratio\n",
       "make                                                                         \n",
       "chevrolet          5       3.0                10760.000000           1.666667\n",
       "ford              33      20.0                13083.333333           1.650000\n",
       "Saab               8       5.0                10887.500000           1.600000\n",
       "lincoln           11       7.0                30681.818182           1.571429\n",
       "volkswagen         3       2.0                18900.000000           1.500000"
      ]
     },
     "execution_count": 13,
     "metadata": {},
     "output_type": "execute_result"
    }
   ],
   "source": [
    "df_above_under_ratio_sort.head(5)"
   ]
  },
  {
   "cell_type": "markdown",
   "id": "03d5a763",
   "metadata": {
    "papermill": {
     "duration": 0.013555,
     "end_time": "2024-01-21T18:26:59.979657",
     "exception": false,
     "start_time": "2024-01-21T18:26:59.966102",
     "status": "completed"
    },
    "tags": []
   },
   "source": [
    "# (quality)best avg selling price aspect - hieghest selling avg price above MMR price for manufacture"
   ]
  },
  {
   "cell_type": "code",
   "execution_count": 14,
   "id": "7dba3be8",
   "metadata": {
    "execution": {
     "iopub.execute_input": "2024-01-21T18:27:00.010808Z",
     "iopub.status.busy": "2024-01-21T18:27:00.010255Z",
     "iopub.status.idle": "2024-01-21T18:27:00.425278Z",
     "shell.execute_reply": "2024-01-21T18:27:00.423721Z"
    },
    "papermill": {
     "duration": 0.434297,
     "end_time": "2024-01-21T18:27:00.427993",
     "exception": false,
     "start_time": "2024-01-21T18:26:59.993696",
     "status": "completed"
    },
    "tags": []
   },
   "outputs": [
    {
     "data": {
      "text/plain": [
       "<Axes: title={'center': 'Avg price for good sell(above MMR)'}, xlabel='Manufacture', ylabel='Price($)'>"
      ]
     },
     "execution_count": 14,
     "metadata": {},
     "output_type": "execute_result"
    },
    {
     "data": {
      "image/png": "[encoded data removed]",
      "text/plain": [
       "<Figure size 640x480 with 1 Axes>"
      ]
     },
     "metadata": {},
     "output_type": "display_data"
    }
   ],
   "source": [
    "df_avg_sort['average_sell_price_per_car'].head(5).plot.bar(title='Avg price for good sell(above MMR)',ylabel='Price($)',xlabel='Manufacture')"
   ]
  },
  {
   "cell_type": "markdown",
   "id": "3f3bc42e",
   "metadata": {
    "papermill": {
     "duration": 0.01477,
     "end_time": "2024-01-21T18:27:00.457844",
     "exception": false,
     "start_time": "2024-01-21T18:27:00.443074",
     "status": "completed"
    },
    "tags": []
   },
   "source": [
    "(quantity) biggest amount of selling cars above the MMR price per manufacture"
   ]
  },
  {
   "cell_type": "code",
   "execution_count": 15,
   "id": "51a2af6c",
   "metadata": {
    "execution": {
     "iopub.execute_input": "2024-01-21T18:27:00.489470Z",
     "iopub.status.busy": "2024-01-21T18:27:00.488982Z",
     "iopub.status.idle": "2024-01-21T18:27:00.831011Z",
     "shell.execute_reply": "2024-01-21T18:27:00.829658Z"
    },
    "papermill": {
     "duration": 0.361107,
     "end_time": "2024-01-21T18:27:00.833846",
     "exception": false,
     "start_time": "2024-01-21T18:27:00.472739",
     "status": "completed"
    },
    "tags": []
   },
   "outputs": [
    {
     "data": {
      "text/plain": [
       "<Axes: title={'center': 'Amount selling cars of good sell(above MMR)'}, xlabel='Manufacture', ylabel='Amount'>"
      ]
     },
     "execution_count": 15,
     "metadata": {},
     "output_type": "execute_result"
    },
    {
     "data": {
      "image/png": "[encoded data removed]",
      "text/plain": [
       "<Figure size 640x480 with 1 Axes>"
      ]
     },
     "metadata": {},
     "output_type": "display_data"
    }
   ],
   "source": [
    "df_AboveMmr_sort['AboveMmr'].head(5).plot.bar(title='Amount selling cars of good sell(above MMR)',ylabel='Amount',xlabel='Manufacture')"
   ]
  },
  {
   "cell_type": "markdown",
   "id": "c5b0577a",
   "metadata": {
    "papermill": {
     "duration": 0.01554,
     "end_time": "2024-01-21T18:27:00.864994",
     "exception": false,
     "start_time": "2024-01-21T18:27:00.849454",
     "status": "completed"
    },
    "tags": []
   },
   "source": [
    "checking the ford best selling models"
   ]
  },
  {
   "cell_type": "code",
   "execution_count": 16,
   "id": "48586d99",
   "metadata": {
    "execution": {
     "iopub.execute_input": "2024-01-21T18:27:00.898234Z",
     "iopub.status.busy": "2024-01-21T18:27:00.897679Z",
     "iopub.status.idle": "2024-01-21T18:27:01.550028Z",
     "shell.execute_reply": "2024-01-21T18:27:01.548683Z"
    },
    "papermill": {
     "duration": 0.672412,
     "end_time": "2024-01-21T18:27:01.552965",
     "exception": false,
     "start_time": "2024-01-21T18:27:00.880553",
     "status": "completed"
    },
    "tags": []
   },
   "outputs": [
    {
     "data": {
      "text/plain": [
       "<Axes: title={'center': 'Models selling amount'}, xlabel='Model', ylabel='Amount'>"
      ]
     },
     "execution_count": 16,
     "metadata": {},
     "output_type": "execute_result"
    },
    {
     "data": {
      "image/png": "[encoded data removed]",
      "text/plain": [
       "<Figure size 640x480 with 1 Axes>"
      ]
     },
     "metadata": {},
     "output_type": "display_data"
    }
   ],
   "source": [
    "ford_df=dataAboveMmr.loc[dataAboveMmr['make']==\"Ford\"]\n",
    "ford_df1=ford_df['model'].value_counts().to_frame()\n",
    "ford_df1.plot.bar(xlabel='Model',ylabel='Amount',title='Models selling amount')"
   ]
  },
  {
   "cell_type": "markdown",
   "id": "16e5af6d",
   "metadata": {
    "papermill": {
     "duration": 0.017375,
     "end_time": "2024-01-21T18:27:01.587880",
     "exception": false,
     "start_time": "2024-01-21T18:27:01.570505",
     "status": "completed"
    },
    "tags": []
   },
   "source": [
    "# linear regresion to predict the mmr price?"
   ]
  },
  {
   "cell_type": "code",
   "execution_count": 17,
   "id": "21630bb1",
   "metadata": {
    "execution": {
     "iopub.execute_input": "2024-01-21T18:27:01.722151Z",
     "iopub.status.busy": "2024-01-21T18:27:01.721692Z",
     "iopub.status.idle": "2024-01-21T18:27:03.777735Z",
     "shell.execute_reply": "2024-01-21T18:27:03.776110Z"
    },
    "papermill": {
     "duration": 2.0784,
     "end_time": "2024-01-21T18:27:03.781075",
     "exception": false,
     "start_time": "2024-01-21T18:27:01.702675",
     "status": "completed"
    },
    "tags": []
   },
   "outputs": [],
   "source": [
    "\n",
    "import matplotlib.pyplot as plt\n",
    "import seaborn as sns\n",
    "\n",
    "# model\n",
    "from sklearn.linear_model import LinearRegression\n",
    "from sklearn.linear_model import LogisticRegression\n",
    "\n",
    "# For validation\n",
    "from sklearn.model_selection import train_test_split"
   ]
  },
  {
   "cell_type": "code",
   "execution_count": 18,
   "id": "66acd01f",
   "metadata": {
    "execution": {
     "iopub.execute_input": "2024-01-21T18:27:03.817806Z",
     "iopub.status.busy": "2024-01-21T18:27:03.816609Z",
     "iopub.status.idle": "2024-01-21T18:27:04.360486Z",
     "shell.execute_reply": "2024-01-21T18:27:04.359481Z"
    },
    "papermill": {
     "duration": 0.56504,
     "end_time": "2024-01-21T18:27:04.363431",
     "exception": false,
     "start_time": "2024-01-21T18:27:03.798391",
     "status": "completed"
    },
    "tags": []
   },
   "outputs": [],
   "source": [
    "data=data.fillna(0)\n",
    "data['year']=data['year'].astype(int)\n",
    "data['condition']=data['condition'].astype(float)\n",
    "data['odometer']=data['odometer'].astype(int)\n"
   ]
  },
  {
   "cell_type": "code",
   "execution_count": 19,
   "id": "d5cb50a5",
   "metadata": {
    "execution": {
     "iopub.execute_input": "2024-01-21T18:27:04.400622Z",
     "iopub.status.busy": "2024-01-21T18:27:04.399948Z",
     "iopub.status.idle": "2024-01-21T18:27:04.481273Z",
     "shell.execute_reply": "2024-01-21T18:27:04.479627Z"
    },
    "papermill": {
     "duration": 0.103986,
     "end_time": "2024-01-21T18:27:04.484605",
     "exception": false,
     "start_time": "2024-01-21T18:27:04.380619",
     "status": "completed"
    },
    "tags": []
   },
   "outputs": [],
   "source": [
    "ford_df2=data.loc[data['make']==\"Ford\"]\n"
   ]
  },
  {
   "cell_type": "code",
   "execution_count": 20,
   "id": "42307e0f",
   "metadata": {
    "execution": {
     "iopub.execute_input": "2024-01-21T18:27:04.521251Z",
     "iopub.status.busy": "2024-01-21T18:27:04.520772Z",
     "iopub.status.idle": "2024-01-21T18:27:04.527641Z",
     "shell.execute_reply": "2024-01-21T18:27:04.526632Z"
    },
    "papermill": {
     "duration": 0.028183,
     "end_time": "2024-01-21T18:27:04.530119",
     "exception": false,
     "start_time": "2024-01-21T18:27:04.501936",
     "status": "completed"
    },
    "tags": []
   },
   "outputs": [],
   "source": [
    "X = ford_df2[['sellingprice']]\n",
    "y = ford_df2['mmr']"
   ]
  },
  {
   "cell_type": "code",
   "execution_count": 21,
   "id": "e2da593b",
   "metadata": {
    "execution": {
     "iopub.execute_input": "2024-01-21T18:27:04.569385Z",
     "iopub.status.busy": "2024-01-21T18:27:04.568565Z",
     "iopub.status.idle": "2024-01-21T18:27:04.578901Z",
     "shell.execute_reply": "2024-01-21T18:27:04.577631Z"
    },
    "papermill": {
     "duration": 0.032958,
     "end_time": "2024-01-21T18:27:04.582081",
     "exception": false,
     "start_time": "2024-01-21T18:27:04.549123",
     "status": "completed"
    },
    "tags": []
   },
   "outputs": [],
   "source": [
    "X_std = (X - X.min(axis=0)) / (X.max(axis=0) - X.min(axis=0))\n",
    "X_scaled = X_std * (1-0)+0"
   ]
  },
  {
   "cell_type": "code",
   "execution_count": 22,
   "id": "d9828c29",
   "metadata": {
    "execution": {
     "iopub.execute_input": "2024-01-21T18:27:04.619160Z",
     "iopub.status.busy": "2024-01-21T18:27:04.618668Z",
     "iopub.status.idle": "2024-01-21T18:27:04.631339Z",
     "shell.execute_reply": "2024-01-21T18:27:04.630106Z"
    },
    "papermill": {
     "duration": 0.034745,
     "end_time": "2024-01-21T18:27:04.634322",
     "exception": false,
     "start_time": "2024-01-21T18:27:04.599577",
     "status": "completed"
    },
    "tags": []
   },
   "outputs": [],
   "source": [
    "X_train, X_test, y_train, y_test = train_test_split(X, y, test_size=0.2)"
   ]
  },
  {
   "cell_type": "code",
   "execution_count": 23,
   "id": "8c9979f3",
   "metadata": {
    "execution": {
     "iopub.execute_input": "2024-01-21T18:27:04.671302Z",
     "iopub.status.busy": "2024-01-21T18:27:04.670864Z",
     "iopub.status.idle": "2024-01-21T18:27:04.676457Z",
     "shell.execute_reply": "2024-01-21T18:27:04.675241Z"
    },
    "papermill": {
     "duration": 0.027099,
     "end_time": "2024-01-21T18:27:04.679326",
     "exception": false,
     "start_time": "2024-01-21T18:27:04.652227",
     "status": "completed"
    },
    "tags": []
   },
   "outputs": [],
   "source": [
    "mymodel = LinearRegression()"
   ]
  },
  {
   "cell_type": "code",
   "execution_count": 24,
   "id": "281dfc22",
   "metadata": {
    "execution": {
     "iopub.execute_input": "2024-01-21T18:27:04.716466Z",
     "iopub.status.busy": "2024-01-21T18:27:04.716049Z",
     "iopub.status.idle": "2024-01-21T18:27:04.742863Z",
     "shell.execute_reply": "2024-01-21T18:27:04.741546Z"
    },
    "papermill": {
     "duration": 0.049332,
     "end_time": "2024-01-21T18:27:04.745907",
     "exception": false,
     "start_time": "2024-01-21T18:27:04.696575",
     "status": "completed"
    },
    "tags": []
   },
   "outputs": [],
   "source": [
    "mymodel_fit = mymodel.fit(X_train,y_train)"
   ]
  },
  {
   "cell_type": "code",
   "execution_count": 25,
   "id": "d005b49e",
   "metadata": {
    "execution": {
     "iopub.execute_input": "2024-01-21T18:27:04.782337Z",
     "iopub.status.busy": "2024-01-21T18:27:04.781857Z",
     "iopub.status.idle": "2024-01-21T18:27:04.789389Z",
     "shell.execute_reply": "2024-01-21T18:27:04.787999Z"
    },
    "papermill": {
     "duration": 0.028941,
     "end_time": "2024-01-21T18:27:04.792253",
     "exception": false,
     "start_time": "2024-01-21T18:27:04.763312",
     "status": "completed"
    },
    "tags": []
   },
   "outputs": [],
   "source": [
    "y_prdict = mymodel_fit.predict(X_test)"
   ]
  },
  {
   "cell_type": "code",
   "execution_count": 26,
   "id": "4bcf6384",
   "metadata": {
    "execution": {
     "iopub.execute_input": "2024-01-21T18:27:04.828450Z",
     "iopub.status.busy": "2024-01-21T18:27:04.828031Z",
     "iopub.status.idle": "2024-01-21T18:27:04.836361Z",
     "shell.execute_reply": "2024-01-21T18:27:04.835004Z"
    },
    "papermill": {
     "duration": 0.029421,
     "end_time": "2024-01-21T18:27:04.838789",
     "exception": false,
     "start_time": "2024-01-21T18:27:04.809368",
     "status": "completed"
    },
    "tags": []
   },
   "outputs": [
    {
     "data": {
      "text/plain": [
       "17818.079623881138"
      ]
     },
     "execution_count": 26,
     "metadata": {},
     "output_type": "execute_result"
    }
   ],
   "source": [
    "ford_df2['mmr'].mean()"
   ]
  },
  {
   "cell_type": "code",
   "execution_count": 27,
   "id": "0a595b2f",
   "metadata": {
    "execution": {
     "iopub.execute_input": "2024-01-21T18:27:04.875346Z",
     "iopub.status.busy": "2024-01-21T18:27:04.874914Z",
     "iopub.status.idle": "2024-01-21T18:27:04.884828Z",
     "shell.execute_reply": "2024-01-21T18:27:04.883336Z"
    },
    "papermill": {
     "duration": 0.031698,
     "end_time": "2024-01-21T18:27:04.887690",
     "exception": false,
     "start_time": "2024-01-21T18:27:04.855992",
     "status": "completed"
    },
    "tags": []
   },
   "outputs": [
    {
     "data": {
      "text/plain": [
       "1149.806676566693"
      ]
     },
     "execution_count": 27,
     "metadata": {},
     "output_type": "execute_result"
    }
   ],
   "source": [
    "abs(y_test - y_prdict).mean()"
   ]
  },
  {
   "cell_type": "code",
   "execution_count": 28,
   "id": "23353752",
   "metadata": {
    "execution": {
     "iopub.execute_input": "2024-01-21T18:27:04.925539Z",
     "iopub.status.busy": "2024-01-21T18:27:04.925111Z",
     "iopub.status.idle": "2024-01-21T18:27:05.343633Z",
     "shell.execute_reply": "2024-01-21T18:27:05.342336Z"
    },
    "papermill": {
     "duration": 0.440732,
     "end_time": "2024-01-21T18:27:05.346654",
     "exception": false,
     "start_time": "2024-01-21T18:27:04.905922",
     "status": "completed"
    },
    "tags": []
   },
   "outputs": [
    {
     "data": {
      "text/plain": [
       "[<matplotlib.lines.Line2D at 0x79932c320730>]"
      ]
     },
     "execution_count": 28,
     "metadata": {},
     "output_type": "execute_result"
    },
    {
     "data": {
      "image/png": "[encoded data removed]",
      "text/plain": [
       "<Figure size 640x480 with 1 Axes>"
      ]
     },
     "metadata": {},
     "output_type": "display_data"
    }
   ],
   "source": [
    "ax = sns.scatterplot(x=y_test, y=y_prdict)\n",
    "ax.plot(y_test, y_test, 'r')"
   ]
  },
  {
   "cell_type": "code",
   "execution_count": null,
   "id": "7eb6de54",
   "metadata": {
    "papermill": {
     "duration": 0.018265,
     "end_time": "2024-01-21T18:27:05.383326",
     "exception": false,
     "start_time": "2024-01-21T18:27:05.365061",
     "status": "completed"
    },
    "tags": []
   },
   "outputs": [],
   "source": []
  }
 ],
 "metadata": {
  "kaggle": {
   "accelerator": "none",
   "dataSources": [
    {
     "datasetId": 1351279,
     "sourceId": 2246965,
     "sourceType": "datasetVersion"
    }
   ],
   "dockerImageVersionId": 30626,
   "isGpuEnabled": false,
   "isInternetEnabled": false,
   "language": "python",
   "sourceType": "notebook"
  },
  "kernelspec": {
   "display_name": "Python 3",
   "language": "python",
   "name": "python3"
  },
  "language_info": {
   "codemirror_mode": {
    "name": "ipython",
    "version": 3
   },
   "file_extension": ".py",
   "mimetype": "text/x-python",
   "name": "python",
   "nbconvert_exporter": "python",
   "pygments_lexer": "ipython3",
   "version": "3.10.12"
  },
  "papermill": {
   "default_parameters": {},
   "duration": 15.768486,
   "end_time": "2024-01-21T18:27:06.228361",
   "environment_variables": {},
   "exception": null,
   "input_path": "__notebook__.ipynb",
   "output_path": "__notebook__.ipynb",
   "parameters": {},
   "start_time": "2024-01-21T18:26:50.459875",
   "version": "2.4.0"
  }
 },
 "nbformat": 4,
 "nbformat_minor": 5
}
